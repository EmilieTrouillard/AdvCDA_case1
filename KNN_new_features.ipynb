{
 "cells": [
  {
   "cell_type": "code",
   "execution_count": 8,
   "metadata": {},
   "outputs": [],
   "source": [
    "import numpy as np\n",
    "from numpy import random\n",
    "import pandas as pd\n",
    "from sklearn import neighbors\n",
    "import matplotlib.pyplot as plt\n",
    "%matplotlib inline"
   ]
  },
  {
   "cell_type": "markdown",
   "metadata": {},
   "source": [
    "# Get the data"
   ]
  },
  {
   "cell_type": "code",
   "execution_count": 3,
   "metadata": {},
   "outputs": [],
   "source": [
    "normal_data = np.loadtxt('Data_case1/ptbdb_normal.csv', delimiter=',')\n",
    "abnormal_data = np.loadtxt('Data_case1/ptbdb_abnormal.csv', delimiter=',')"
   ]
  },
  {
   "cell_type": "markdown",
   "metadata": {},
   "source": [
    "## Binary dataset"
   ]
  },
  {
   "cell_type": "code",
   "execution_count": 4,
   "metadata": {},
   "outputs": [],
   "source": [
    "#Data from the binary dataset\n",
    "Nn = len(normal_data)\n",
    "Nn_train = int(Nn/2)\n",
    "Nn_test = int(0.3*Nn)\n",
    "normal_train = normal_data[:Nn_train,:-1]\n",
    "normal_dev = normal_data[Nn_train:Nn_train + Nn_test,:-1]\n",
    "normal_test = normal_data[Nn_train + Nn_test:,:-1]\n",
    "Na = len(abnormal_data)\n",
    "Na_train = int(Na/2)\n",
    "Na_test = int(0.3*Na)\n",
    "abnormal_train = abnormal_data[:Na_train,:-1]\n",
    "abnormal_dev = abnormal_data[Na_train:Na_train + Na_test,:-1]\n",
    "abnormal_test = abnormal_data[Na_train + Na_test:,:-1]\n",
    "X_train2 = np.vstack([normal_train, abnormal_train])\n",
    "y_train2 = np.vstack([[0] * len(normal_train) + [1] * len(abnormal_train)])[0]\n",
    "X_dev2 = np.vstack([normal_dev, abnormal_dev])\n",
    "y_dev2 = np.vstack([[0] * len(normal_dev) + [1] * len(abnormal_dev)])[0]\n",
    "X_traindev2 = np.vstack([X_train2, X_dev2])\n",
    "y_traindev2 = np.vstack([[0] * len(normal_train) + [1] * len(abnormal_train) + [0] * len(normal_dev) + [1] * len(abnormal_dev)][0])\n",
    "X_test2 = np.vstack([normal_test, abnormal_test])\n",
    "y_test2 = np.vstack([[0] * len(normal_test) + [1] * len(abnormal_test)])[0]"
   ]
  },
  {
   "cell_type": "code",
   "execution_count": 74,
   "metadata": {},
   "outputs": [],
   "source": [
    "def create_new_features(array):\n",
    "    array[array == 0.0] = np.NaN\n",
    "    percentile95 = np.nanpercentile(array, 0.95, axis=1)\n",
    "    percentile05 = np.nanpercentile(array, 0.05, axis=1)\n",
    "    percentile75 = np.nanpercentile(array, 0.75, axis=1)\n",
    "    percentile25 = np.nanpercentile(array, 0.25, axis=1)\n",
    "    median = np.nanmedian(array, axis=1)\n",
    "    mean = np.nanmean(array, axis=1)\n",
    "    std = np.nanstd(array, axis=1)\n",
    "    length = np.array([max([i for i in range(len(array[n,:])) if array[n,i] > 0]) for n in range(len(array[:,0]))])\n",
    "    new_features = np.vstack([mean, median, std, percentile25, percentile75, percentile05, percentile95, length])\n",
    "    new_features = np.transpose(new_features)\n",
    "    return new_features"
   ]
  },
  {
   "cell_type": "code",
   "execution_count": 75,
   "metadata": {},
   "outputs": [],
   "source": [
    "# if we want to save the datasets with labels\n",
    "#new_train2 = np.hstack([create_new_features(X_train2), y_train2.reshape(len(y_train2),1)])\n",
    "#new_dev2 = np.hstack([create_new_features(X_dev2), y_dev2.reshape(len(y_dev2),1)])\n",
    "#new_test2 = np.hstack([create_new_features(X_test2), y_test2.reshape(len(y_test2),1)])\n",
    "#new_traindev2 = np.hstack([create_new_features(X_traindev2), y_traindev2.reshape(len(y_traindev2),1)])\n",
    "\n",
    "newX_train2 = create_new_features(X_train2)\n",
    "newX_dev2 = create_new_features(X_dev2)\n",
    "newX_test2 = create_new_features(X_test2)\n",
    "newX_traindev2 = create_new_features(X_traindev2)\n"
   ]
  },
  {
   "cell_type": "code",
   "execution_count": 82,
   "metadata": {},
   "outputs": [
    {
     "data": {
      "text/plain": [
       "array([0.04732334, 0.06153061, 0.06957325, ..., 0.02538076, 0.10665962,\n",
       "       0.00282885])"
      ]
     },
     "execution_count": 82,
     "metadata": {},
     "output_type": "execute_result"
    }
   ],
   "source": []
  },
  {
   "cell_type": "markdown",
   "metadata": {},
   "source": [
    "## KNN"
   ]
  },
  {
   "cell_type": "code",
   "execution_count": 67,
   "metadata": {},
   "outputs": [
    {
     "name": "stdout",
     "output_type": "stream",
     "text": [
      "total accuracy:  0.8485576923076923\n",
      "class accuracies:  [0.7555555555555555, 0.884395813510942]\n"
     ]
    },
    {
     "name": "stderr",
     "output_type": "stream",
     "text": [
      "C:\\Users\\user\\Anaconda2\\envs\\py35\\lib\\site-packages\\ipykernel_launcher.py:2: DataConversionWarning: A column-vector y was passed when a 1d array was expected. Please change the shape of y to (n_samples, ), for example using ravel().\n",
      "  \n"
     ]
    }
   ],
   "source": [
    "knn = neighbors.KNeighborsClassifier(1, weights='uniform')\n",
    "knn.fit(newX_traindev2, y_traindev2)\n",
    "Z = knn.predict(newX_test2)\n",
    "misclassification = 0\n",
    "misclassified = [0,0]\n",
    "total = [0,0]\n",
    "for i, z in enumerate(Z):\n",
    "    if z != y_test2[i]:\n",
    "        misclassification += 1\n",
    "        misclassified[y_test2[i]] += 1\n",
    "    total[y_test2[i]] += 1\n",
    "misclassification = misclassification / len(Z)\n",
    "accuracy = 1 - misclassification\n",
    "accuracies = [1 - misclassified[i]/total[i] for i in range(2)]\n",
    "print('total accuracy: ', accuracy)\n",
    "print('class accuracies: ', accuracies)"
   ]
  },
  {
   "cell_type": "markdown",
   "metadata": {},
   "source": [
    "## 5-class dataset"
   ]
  },
  {
   "cell_type": "code",
   "execution_count": 68,
   "metadata": {},
   "outputs": [],
   "source": [
    "# 5 class data\n",
    "train_data5 = np.loadtxt('Data_case1/mitbih_train.csv', delimiter = ',')\n",
    "random.shuffle(train_data5)\n",
    "test_data5 = np.loadtxt('Data_case1/mitbih_train.csv', delimiter = ',')\n",
    "N = np.int(len(train_data5)/3)\n",
    "X_dev5 = train_data5[:N,:-1]\n",
    "y_dev5 = train_data5[:N,-1]\n",
    "X_train5 = train_data5[N:,:-1]\n",
    "y_train5 = train_data5[N:,-1]\n",
    "X_traindev5 = train_data5[:,:-1]\n",
    "y_traindev5 = train_data5[:,-1]\n",
    "X_test5 = test_data5[:,:-1]\n",
    "y_test5 = test_data5[:,-1]"
   ]
  },
  {
   "cell_type": "code",
   "execution_count": 69,
   "metadata": {},
   "outputs": [],
   "source": [
    "newX_train5 = create_new_features(X_train5)\n",
    "newX_dev5 = create_new_features(X_dev5)\n",
    "newX_test5 = create_new_features(X_test5)\n",
    "newX_traindev5 = create_new_features(X_traindev5)\n"
   ]
  },
  {
   "cell_type": "markdown",
   "metadata": {},
   "source": [
    "## KNN"
   ]
  },
  {
   "cell_type": "code",
   "execution_count": 70,
   "metadata": {},
   "outputs": [
    {
     "name": "stdout",
     "output_type": "stream",
     "text": [
      "total accuracy:  0.9144413733238915\n",
      "class accuracies:  [0.9784603496571043, 0.413855150697256, 0.5428472702142364, 0.3993759750390016, 0.7518270875447053]\n"
     ]
    }
   ],
   "source": [
    "knn = neighbors.KNeighborsClassifier(7, weights='uniform')\n",
    "knn.fit(newX_traindev5, y_traindev5)\n",
    "Z = knn.predict(newX_test5)\n",
    "misclassification = 0\n",
    "misclassified = [0,0,0,0,0]\n",
    "total = [0,0,0,0,0]\n",
    "for i, z in enumerate(Z):\n",
    "    if z != y_test5[i]:\n",
    "        misclassification += 1\n",
    "        misclassified[int(y_test5[i])] += 1\n",
    "    total[int(y_test5[i])] += 1\n",
    "misclassification = misclassification / len(Z)\n",
    "accuracy = 1 - misclassification\n",
    "accuracies = [1 - misclassified[i]/total[i] for i in range(5)]\n",
    "print('total accuracy: ', accuracy)\n",
    "print('class accuracies: ', accuracies)"
   ]
  },
  {
   "cell_type": "code",
   "execution_count": null,
   "metadata": {},
   "outputs": [],
   "source": []
  },
  {
   "cell_type": "code",
   "execution_count": null,
   "metadata": {},
   "outputs": [],
   "source": []
  },
  {
   "cell_type": "code",
   "execution_count": null,
   "metadata": {},
   "outputs": [],
   "source": []
  }
 ],
 "metadata": {
  "kernelspec": {
   "display_name": "Python 3",
   "language": "python",
   "name": "python3"
  },
  "language_info": {
   "codemirror_mode": {
    "name": "ipython",
    "version": 3
   },
   "file_extension": ".py",
   "mimetype": "text/x-python",
   "name": "python",
   "nbconvert_exporter": "python",
   "pygments_lexer": "ipython3",
   "version": "3.5.4"
  }
 },
 "nbformat": 4,
 "nbformat_minor": 2
}
