{
 "cells": [
  {
   "cell_type": "code",
   "execution_count": 2,
   "metadata": {},
   "outputs": [],
   "source": [
    "import numpy as np\n",
    "from numpy import random\n",
    "import pandas as pd\n",
    "from sklearn import neighbors\n",
    "import matplotlib.pyplot as plt\n",
    "%matplotlib inline"
   ]
  },
  {
   "cell_type": "markdown",
   "metadata": {},
   "source": [
    "# Get the (5-class) data"
   ]
  },
  {
   "cell_type": "markdown",
   "metadata": {},
   "source": [
    "### 5-class dataset"
   ]
  },
  {
   "cell_type": "code",
   "execution_count": 3,
   "metadata": {},
   "outputs": [],
   "source": [
    "# 5 class data\n",
    "train_data5 = np.loadtxt('Data_case1/binary_duplicate_under.csv', delimiter = ',')\n",
    "random.shuffle(train_data5)\n",
    "test_data5 = np.loadtxt('Data_case1/mitbih_train.csv', delimiter = ',')"
   ]
  },
  {
   "cell_type": "code",
   "execution_count": 4,
   "metadata": {},
   "outputs": [],
   "source": [
    "N = np.int(len(train_data5)/3)\n",
    "X_dev5 = train_data5[:N,:-1]\n",
    "y_dev5 = train_data5[:N,-1]\n",
    "X_train5 = train_data5[N:,:-1]\n",
    "y_train5 = train_data5[N:,-1]\n",
    "X_traindev5 = train_data5[:,:-1]\n",
    "y_traindev5 = train_data5[:,-1]\n",
    "X_test5 = test_data5[:,:-1]\n",
    "y_test5 = test_data5[:,-1]"
   ]
  },
  {
   "cell_type": "code",
   "execution_count": null,
   "metadata": {},
   "outputs": [],
   "source": []
  },
  {
   "cell_type": "markdown",
   "metadata": {},
   "source": [
    "## K Nearest Neighbours"
   ]
  },
  {
   "cell_type": "markdown",
   "metadata": {},
   "source": [
    "The validation shows that we should use K = 7. however, the weights don't seem to be necessary.\n",
    "\n",
    "### Test of the model on the same dataset"
   ]
  },
  {
   "cell_type": "code",
   "execution_count": 5,
   "metadata": {},
   "outputs": [
    {
     "name": "stdout",
     "output_type": "stream",
     "text": [
      "total accuracy:  0.9769285241108344\n",
      "class accuracies:  [0.989085289288129, 0.8043184885290149, 0.913441603317208, 0.8923556942277691, 0.9651687140413622]\n"
     ]
    }
   ],
   "source": [
    "knn = neighbors.KNeighborsClassifier(7, weights='uniform')\n",
    "knn.fit(X_traindev5, y_traindev5)\n",
    "Z = knn.predict(X_test5)\n",
    "misclassification = 0\n",
    "misclassified = [0,0,0,0,0]\n",
    "total = [0,0,0,0,0]\n",
    "for i, z in enumerate(Z):\n",
    "    if z != y_test5[i]:\n",
    "        misclassification += 1\n",
    "        misclassified[int(y_test5[i])] += 1\n",
    "    total[int(y_test5[i])] += 1\n",
    "misclassification = misclassification / len(Z)\n",
    "accuracy = 1 - misclassification\n",
    "accuracies = [1 - misclassified[i]/total[i] for i in range(5)]\n",
    "print('total accuracy: ', accuracy)\n",
    "print('class accuracies: ', accuracies)"
   ]
  },
  {
   "cell_type": "code",
   "execution_count": null,
   "metadata": {},
   "outputs": [],
   "source": []
  },
  {
   "cell_type": "code",
   "execution_count": null,
   "metadata": {},
   "outputs": [],
   "source": []
  }
 ],
 "metadata": {
  "kernelspec": {
   "display_name": "Python 3",
   "language": "python",
   "name": "python3"
  },
  "language_info": {
   "codemirror_mode": {
    "name": "ipython",
    "version": 3
   },
   "file_extension": ".py",
   "mimetype": "text/x-python",
   "name": "python",
   "nbconvert_exporter": "python",
   "pygments_lexer": "ipython3",
   "version": "3.5.4"
  }
 },
 "nbformat": 4,
 "nbformat_minor": 2
}
