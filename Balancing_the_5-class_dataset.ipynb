{
 "cells": [
  {
   "cell_type": "code",
   "execution_count": 3,
   "metadata": {},
   "outputs": [],
   "source": [
    "import numpy as np\n",
    "from numpy import random\n",
    "import pandas as pd\n",
    "from sklearn import neighbors\n",
    "import matplotlib.pyplot as plt\n",
    "%matplotlib inline"
   ]
  },
  {
   "cell_type": "markdown",
   "metadata": {},
   "source": [
    "# Get the original data\n"
   ]
  },
  {
   "cell_type": "code",
   "execution_count": 4,
   "metadata": {},
   "outputs": [],
   "source": [
    "train_all = pd.read_csv('../Data_case1/mitbih_train.csv', delimiter = ',', header=None)\n",
    "test = pd.read_csv('../Data_case1/mitbih_train.csv', delimiter = ',', header=None)"
   ]
  },
  {
   "cell_type": "code",
   "execution_count": 5,
   "metadata": {},
   "outputs": [
    {
     "data": {
      "text/plain": [
       "{0.0, 1.0, 2.0, 3.0, 4.0}"
      ]
     },
     "execution_count": 5,
     "metadata": {},
     "output_type": "execute_result"
    }
   ],
   "source": [
    "set(train_all[187].values)"
   ]
  },
  {
   "cell_type": "code",
   "execution_count": 27,
   "metadata": {},
   "outputs": [],
   "source": [
    "train_all0 = train_all[train_all[187]==0]\n",
    "train_all1 = train_all[train_all[187]==1]\n",
    "train_all2 = train_all[train_all[187]==2]\n",
    "train_all3 = train_all[train_all[187]==3]\n",
    "train_all4 = train_all[train_all[187]==4]"
   ]
  },
  {
   "cell_type": "code",
   "execution_count": 28,
   "metadata": {},
   "outputs": [
    {
     "name": "stdout",
     "output_type": "stream",
     "text": [
      "Number of data points in each class:\n",
      "Class 0:  72471\n",
      "Class 1:  2223\n",
      "Class 2:  5788\n",
      "Class 3:  641\n",
      "Class 4:  6431\n"
     ]
    }
   ],
   "source": [
    "print('Number of data points in each class:')\n",
    "print('Class 0: ', len(train_all0))\n",
    "print('Class 1: ', len(train_all1))\n",
    "print('Class 2: ', len(train_all2))\n",
    "print('Class 3: ', len(train_all3))\n",
    "print('Class 4: ', len(train_all4))"
   ]
  },
  {
   "cell_type": "markdown",
   "metadata": {},
   "source": [
    "### The plan is to undersample class 0 and oversample classes 1 and 3.\n",
    "We want to try out 4 methods for the oversampling:\n",
    "    - basically oversampling by duplicate the data\n",
    "    - add a bit of white noise to the signals\n",
    "    - move the signals in the time space\n",
    "    - use SMOTE"
   ]
  },
  {
   "cell_type": "markdown",
   "metadata": {},
   "source": [
    "#### Undersample class 0"
   ]
  },
  {
   "cell_type": "code",
   "execution_count": 29,
   "metadata": {},
   "outputs": [
    {
     "data": {
      "text/plain": [
       "array([1.        , 0.99349594, 0.98373985, ..., 1.        , 0.88636363,\n",
       "       0.9619565 ])"
      ]
     },
     "execution_count": 29,
     "metadata": {},
     "output_type": "execute_result"
    }
   ],
   "source": [
    "NEW_LENGTH_OF_CLASS0 = 50000\n",
    "class0 = np.array(train_all0)\n",
    "random.shuffle(class0)\n",
    "class0 = class0[:NEW_LENGTH_OF_CLASS0,:]\n",
    "class0[:,0]"
   ]
  },
  {
   "cell_type": "markdown",
   "metadata": {},
   "source": [
    "#### Duplicate the data"
   ]
  },
  {
   "cell_type": "code",
   "execution_count": 30,
   "metadata": {},
   "outputs": [],
   "source": [
    "NEW_LENGTH_OF_CLASS1 = 4000\n",
    "old_length = len(train_all1)\n",
    "diff = NEW_LENGTH_OF_CLASS1 - old_length\n",
    "class1 = np.array(train_all1)\n",
    "for i in range(diff):\n",
    "    n = random.randint(old_length)\n",
    "    class1 = np.vstack([class1, class1[n,:]])"
   ]
  },
  {
   "cell_type": "code",
   "execution_count": 31,
   "metadata": {},
   "outputs": [
    {
     "data": {
      "text/plain": [
       "(4000, 188)"
      ]
     },
     "execution_count": 31,
     "metadata": {},
     "output_type": "execute_result"
    }
   ],
   "source": [
    "class1.shape"
   ]
  },
  {
   "cell_type": "code",
   "execution_count": 32,
   "metadata": {},
   "outputs": [],
   "source": [
    "NEW_LENGTH_OF_CLASS3 = 2000\n",
    "old_length = len(train_all3)\n",
    "diff = NEW_LENGTH_OF_CLASS3 - old_length\n",
    "class3 = np.array(train_all3)\n",
    "for i in range(diff):\n",
    "    n = random.randint(old_length)\n",
    "    class3 = np.vstack([class3, class3[n,:]])"
   ]
  },
  {
   "cell_type": "code",
   "execution_count": 33,
   "metadata": {},
   "outputs": [
    {
     "data": {
      "text/plain": [
       "(2000, 188)"
      ]
     },
     "execution_count": 33,
     "metadata": {},
     "output_type": "execute_result"
    }
   ],
   "source": [
    "class3.shape"
   ]
  },
  {
   "cell_type": "code",
   "execution_count": 34,
   "metadata": {},
   "outputs": [
    {
     "data": {
      "text/plain": [
       "(68219, 188)"
      ]
     },
     "execution_count": 34,
     "metadata": {},
     "output_type": "execute_result"
    }
   ],
   "source": [
    "class2 = np.array(train_all2)\n",
    "class4 = np.array(train_all4)\n",
    "all_classes = np.vstack([class0, class1, class2, class3, class4])\n",
    "all_classes.shape"
   ]
  },
  {
   "cell_type": "code",
   "execution_count": 36,
   "metadata": {},
   "outputs": [],
   "source": [
    "np.savetxt('../Data_case1/binary_duplicate_under.csv', all_classes, delimiter=',')"
   ]
  },
  {
   "cell_type": "markdown",
   "metadata": {},
   "source": [
    "#### Add some white noise\n",
    "A small white noise will be added to a random choice of vectors, only on strictly positive values."
   ]
  },
  {
   "cell_type": "code",
   "execution_count": null,
   "metadata": {},
   "outputs": [],
   "source": []
  },
  {
   "cell_type": "markdown",
   "metadata": {},
   "source": [
    "#### Move the signals in the time space (add a delay)\n"
   ]
  },
  {
   "cell_type": "code",
   "execution_count": null,
   "metadata": {},
   "outputs": [],
   "source": []
  }
 ],
 "metadata": {
  "kernelspec": {
   "display_name": "Python 3",
   "language": "python",
   "name": "python3"
  },
  "language_info": {
   "codemirror_mode": {
    "name": "ipython",
    "version": 3
   },
   "file_extension": ".py",
   "mimetype": "text/x-python",
   "name": "python",
   "nbconvert_exporter": "python",
   "pygments_lexer": "ipython3",
   "version": "3.5.4"
  }
 },
 "nbformat": 4,
 "nbformat_minor": 2
}
